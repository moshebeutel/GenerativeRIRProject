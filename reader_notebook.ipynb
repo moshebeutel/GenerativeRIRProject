{
 "cells": [
  {
   "cell_type": "code",
   "execution_count": 55,
   "metadata": {},
   "outputs": [],
   "source": [
    "import numpy as np\n",
    "import matplotlib.pyplot as plt\n",
    "from torch.utils.data import Dataset\n",
    "import os\n",
    "import torch"
   ]
  },
  {
   "cell_type": "code",
   "execution_count": 27,
   "metadata": {},
   "outputs": [],
   "source": [
    "root_dir= 'Data/room=[6,6,2.4]'"
   ]
  },
  {
   "cell_type": "code",
   "execution_count": 49,
   "metadata": {},
   "outputs": [],
   "source": [
    "class CustomImageDataset(Dataset):\n",
    "    def __init__(self, root_dir, is_test=False):\n",
    "        dirs = os.listdir(root_dir)\n",
    "        dirs = [dir for dir in dirs if dir.startswith('Test') == is_test]\n",
    "        self.revs = None\n",
    "        self.targets = None\n",
    "        for dir in dirs:\n",
    "            rev_target_dirs = os.listdir(os.path.join(root_dir,dir))\n",
    "            rev_dir = [d for d in rev_target_dirs if d.startswith('beta')][0]\n",
    "            target_dir = [d for d in rev_target_dirs if d.startswith('Target')][0]\n",
    "            rev = os.path.join(root_dir,dir,rev_dir,'data_phase.npy' if is_test else 'Reverberated/data_phase.npy' )\n",
    "            a = np.load(rev)\n",
    "            if self.revs is None:\n",
    "                self.revs = np.copy(a)\n",
    "            else:\n",
    "                self.revs = np.vstack((self.revs,a))\n",
    "            target = os.path.join(root_dir,dir,target_dir,'data_phase.npy')\n",
    "            b = np.load(target)\n",
    "            if self.targets is None:\n",
    "                self.targets = np.copy(b)\n",
    "            else:\n",
    "                self.targets = np.vstack((self.targets,b))\n",
    "                \n",
    "\n",
    "    def __len__(self):\n",
    "        return self.targets.shape[0]\n",
    "\n",
    "    def __getitem__(self, idx):\n",
    "        reverberated_image = self.revs[idx, :, :]\n",
    "        target_image = self.targets[idx, :, :]\n",
    "        return torch.from_numpy(reverberated_image), torch.from_numpy(target_image)\n",
    "\n",
    "training_data = CustomImageDataset(root_dir)\n",
    "test_data = CustomImageDataset(root_dir, is_test=True)"
   ]
  },
  {
   "cell_type": "code",
   "execution_count": 50,
   "metadata": {},
   "outputs": [],
   "source": [
    "from torch.utils.data import DataLoader\n",
    "\n",
    "train_dataloader = DataLoader(training_data, batch_size=64, shuffle=True)\n",
    "test_dataloader = DataLoader(test_data, batch_size=64, shuffle=True)"
   ]
  },
  {
   "cell_type": "code",
   "execution_count": 56,
   "metadata": {},
   "outputs": [
    {
     "data": {
      "text/plain": [
       "<matplotlib.image.AxesImage at 0x7fe0b52c6ac0>"
      ]
     },
     "execution_count": 56,
     "metadata": {},
     "output_type": "execute_result"
    },
    {
     "data": {
      "image/png": "[encoded data removed]",
      "text/plain": [
       "<Figure size 432x288 with 1 Axes>"
      ]
     },
     "metadata": {
      "needs_background": "light"
     },
     "output_type": "display_data"
    }
   ],
   "source": [
    "# Display image and label.\n",
    "train_rev, train_target = next(iter(train_dataloader))\n",
    "rev_img = train_rev[0].squeeze()\n",
    "target_img = train_target[0].squeeze()\n",
    "# plt.imshow(rev_img)\n",
    "plt.imshow(target_img)\n",
    "\n"
   ]
  }
 ],
 "metadata": {
  "interpreter": {
   "hash": "1448b48b023bcc9c3d4a79e814720a10ca6d4244f75e0f7ce4af58f96ba2b7d3"
  },
  "kernelspec": {
   "display_name": "Python 3.8.8 ('base')",
   "language": "python",
   "name": "python3"
  },
  "language_info": {
   "codemirror_mode": {
    "name": "ipython",
    "version": 3
   },
   "file_extension": ".py",
   "mimetype": "text/x-python",
   "name": "python",
   "nbconvert_exporter": "python",
   "pygments_lexer": "ipython3",
   "version": "3.8.8"
  },
  "orig_nbformat": 4
 },
 "nbformat": 4,
 "nbformat_minor": 2
}
